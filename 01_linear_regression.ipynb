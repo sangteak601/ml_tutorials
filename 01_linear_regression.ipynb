{
 "cells": [
  {
   "cell_type": "code",
   "execution_count": null,
   "metadata": {},
   "outputs": [],
   "source": [
    "# Linear Regression\n",
    "import pandas as pd\n",
    "import numpy as np"
   ]
  },
  {
   "cell_type": "code",
   "execution_count": 30,
   "metadata": {},
   "outputs": [
    {
     "name": "stdout",
     "output_type": "stream",
     "text": [
      "X=\n",
      " [[100   2]\n",
      " [ 50  42]\n",
      " [ 45  31]\n",
      " [ 60  35]]\n",
      "y=\n",
      " [[ 5]\n",
      " [25]\n",
      " [22]\n",
      " [18]]\n"
     ]
    }
   ],
   "source": [
    "data = {\n",
    "  \"Wind\": [100, 50, 45, 60],\n",
    "  \"People\": [2, 42, 31, 35],\n",
    "  \"Energy\": [5, 25, 22, 18]\n",
    "}\n",
    "\n",
    "df = pd.DataFrame(data)\n",
    "\n",
    "X = df[[\"Wind\", \"People\"]]\n",
    "X = X.to_numpy()\n",
    "y = df[\"Energy\"].to_numpy().reshape(-1, 1)\n",
    "# X = np.array([[1], [2], [3], [4]])\n",
    "# y = np.array([[2], [4], [6], [8]])\n",
    "print(\"X=\\n\", X)\n",
    "print(\"y=\\n\", y)"
   ]
  },
  {
   "cell_type": "code",
   "execution_count": 31,
   "metadata": {},
   "outputs": [
    {
     "name": "stdout",
     "output_type": "stream",
     "text": [
      "X_mat=\n",
      " [[  1. 100.   2.]\n",
      " [  1.  50.  42.]\n",
      " [  1.  45.  31.]\n",
      " [  1.  60.  35.]]\n",
      "theta=\n",
      " [[24.97615881]\n",
      " [-0.20751687]\n",
      " [ 0.20920152]]\n",
      "      y_test   y\n",
      "0   4.642875   5\n",
      "1  23.386779  25\n",
      "2  22.123147  22\n",
      "3  19.847200  18\n",
      "MSE= 1.5393330377813927\n"
     ]
    }
   ],
   "source": [
    "# By differentiating the matirx equation\n",
    "# theta = (X^T * X)^-1 * X^T * y\n",
    "\n",
    "X_mat = np.hstack([np.ones((X.shape[0], 1)), X])\n",
    "print(\"X_mat=\\n\", X_mat)\n",
    "\n",
    "theta = np.linalg.inv(X_mat.T.dot(X_mat)).dot(X_mat.T).dot(y)\n",
    "print(\"theta=\\n\", theta)\n",
    "\n",
    "# Predict\n",
    "y_test = X_mat.dot(theta)\n",
    "print(pd.DataFrame({\"y_test\": y_test.flatten(), \"y\": y.flatten()}))\n",
    "print(\"MSE=\", np.mean((y_test - y) ** 2))"
   ]
  },
  {
   "cell_type": "code",
   "execution_count": 38,
   "metadata": {},
   "outputs": [
    {
     "name": "stdout",
     "output_type": "stream",
     "text": [
      "epoch 0, loss 971.918701171875\n",
      "epoch 10, loss 98.64098358154297\n",
      "epoch 20, loss 18.554264068603516\n",
      "epoch 30, loss 7.509305000305176\n",
      "epoch 40, loss 5.985984802246094\n",
      "epoch 50, loss 5.775803089141846\n",
      "epoch 60, loss 5.746721267700195\n",
      "epoch 70, loss 5.742613792419434\n",
      "epoch 80, loss 5.741952896118164\n",
      "epoch 90, loss 5.741762161254883\n",
      "Weight=\n",
      " Parameter containing:\n",
      "tensor([[0.0370, 0.5494]], requires_grad=True)\n",
      "Bias=\n",
      " Parameter containing:\n",
      "tensor([-0.1371], requires_grad=True)\n",
      "      y_test   y\n",
      "0   4.664368   5\n",
      "1  24.789961  25\n",
      "2  18.561186  22\n",
      "3  21.314264  18\n",
      "MSE= 5.741638964867036\n"
     ]
    }
   ],
   "source": [
    "# By pytorch linear regression model with MSE loss\n",
    "import torch\n",
    "\n",
    "x_tensor = torch.from_numpy(X).float()\n",
    "y_tensor = torch.from_numpy(y).float()\n",
    "\n",
    "model = torch.nn.Linear(X.shape[1], y.shape[1])\n",
    "criterion = torch.nn.MSELoss()\n",
    "optimizer = torch.optim.SGD(model.parameters(), lr=0.0001)\n",
    "\n",
    "for epoch in range(100):\n",
    " \n",
    "    # Compute predictions by calling model\n",
    "    pred_y = model(x_tensor)\n",
    " \n",
    "    # Compute loss\n",
    "    loss = criterion(pred_y, y_tensor)\n",
    " \n",
    "    # Calculate gradients by running the backpropagation\n",
    "    optimizer.zero_grad()\n",
    "    loss.backward()\n",
    "\n",
    "    # Update the model parameters\n",
    "    optimizer.step()\n",
    "\n",
    "    # Print the loss after every 10 epoch\n",
    "    if epoch % 10 == 0:\n",
    "        print('epoch {}, loss {}'.format(epoch, loss.item()))\n",
    "\n",
    "print(\"Weight=\\n\", model.weight)\n",
    "print(\"Bias=\\n\", model.bias)\n",
    "\n",
    "# Predict\n",
    "y_test = model(x_tensor).detach().numpy()\n",
    "print(pd.DataFrame({\"y_test\": y_test.flatten(), \"y\": y.flatten()}))\n",
    "print(\"MSE=\", np.mean((y_test - y) ** 2))"
   ]
  }
 ],
 "metadata": {
  "kernelspec": {
   "display_name": "base",
   "language": "python",
   "name": "python3"
  },
  "language_info": {
   "codemirror_mode": {
    "name": "ipython",
    "version": 3
   },
   "file_extension": ".py",
   "mimetype": "text/x-python",
   "name": "python",
   "nbconvert_exporter": "python",
   "pygments_lexer": "ipython3",
   "version": "3.12.6"
  }
 },
 "nbformat": 4,
 "nbformat_minor": 2
}
